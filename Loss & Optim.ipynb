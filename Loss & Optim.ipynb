{
 "cells": [
  {
   "cell_type": "markdown",
   "metadata": {
    "id": "fQFlVvECeZsD"
   },
   "source": [
    "# **Imports 📢**"
   ]
  },
  {
   "cell_type": "code",
   "execution_count": 2,
   "metadata": {
    "id": "Jnc2LOc9eRjD"
   },
   "outputs": [],
   "source": [
    "import torch\n",
    "import torch.nn as nn\n",
    "import torch.optim as optim\n",
    "from torch.utils.data import TensorDataset, DataLoader, random_split\n",
    "\n",
    "import pandas as pd\n",
    "import matplotlib.pyplot as plt\n",
    "from sklearn.model_selection import train_test_split\n",
    "from torchmetrics import R2Score\n",
    "from tqdm import tqdm\n",
    "\n",
    "from sklearn.metrics import r2_score"
   ]
  },
  {
   "cell_type": "markdown",
   "metadata": {
    "id": "OsNaqujTeiGx"
   },
   "source": [
    "# **Dataset 🗂️**"
   ]
  },
  {
   "cell_type": "markdown",
   "metadata": {
    "id": "3kNFvE61Q7sC"
   },
   "source": [
    "## Read Dataset"
   ]
  },
  {
   "cell_type": "code",
   "execution_count": 3,
   "metadata": {
    "colab": {
     "base_uri": "https://localhost:8080/",
     "height": 206
    },
    "id": "_LTnBifwstfN",
    "outputId": "fcc7dccb-39f0-49fb-bc0e-db7aa5905932"
   },
   "outputs": [
    {
     "data": {
      "text/html": [
       "<div>\n",
       "<style scoped>\n",
       "    .dataframe tbody tr th:only-of-type {\n",
       "        vertical-align: middle;\n",
       "    }\n",
       "\n",
       "    .dataframe tbody tr th {\n",
       "        vertical-align: top;\n",
       "    }\n",
       "\n",
       "    .dataframe thead th {\n",
       "        text-align: right;\n",
       "    }\n",
       "</style>\n",
       "<table border=\"1\" class=\"dataframe\">\n",
       "  <thead>\n",
       "    <tr style=\"text-align: right;\">\n",
       "      <th></th>\n",
       "      <th>longitude</th>\n",
       "      <th>latitude</th>\n",
       "      <th>housing_median_age</th>\n",
       "      <th>total_rooms</th>\n",
       "      <th>total_bedrooms</th>\n",
       "      <th>population</th>\n",
       "      <th>households</th>\n",
       "      <th>median_income</th>\n",
       "      <th>median_house_value</th>\n",
       "      <th>ocean_proximity</th>\n",
       "    </tr>\n",
       "  </thead>\n",
       "  <tbody>\n",
       "    <tr>\n",
       "      <th>0</th>\n",
       "      <td>-122.23</td>\n",
       "      <td>37.88</td>\n",
       "      <td>41.0</td>\n",
       "      <td>880.0</td>\n",
       "      <td>129.0</td>\n",
       "      <td>322.0</td>\n",
       "      <td>126.0</td>\n",
       "      <td>8.3252</td>\n",
       "      <td>452600.0</td>\n",
       "      <td>NEAR BAY</td>\n",
       "    </tr>\n",
       "    <tr>\n",
       "      <th>1</th>\n",
       "      <td>-122.22</td>\n",
       "      <td>37.86</td>\n",
       "      <td>21.0</td>\n",
       "      <td>7099.0</td>\n",
       "      <td>1106.0</td>\n",
       "      <td>2401.0</td>\n",
       "      <td>1138.0</td>\n",
       "      <td>8.3014</td>\n",
       "      <td>358500.0</td>\n",
       "      <td>NEAR BAY</td>\n",
       "    </tr>\n",
       "    <tr>\n",
       "      <th>2</th>\n",
       "      <td>-122.24</td>\n",
       "      <td>37.85</td>\n",
       "      <td>52.0</td>\n",
       "      <td>1467.0</td>\n",
       "      <td>190.0</td>\n",
       "      <td>496.0</td>\n",
       "      <td>177.0</td>\n",
       "      <td>7.2574</td>\n",
       "      <td>352100.0</td>\n",
       "      <td>NEAR BAY</td>\n",
       "    </tr>\n",
       "    <tr>\n",
       "      <th>3</th>\n",
       "      <td>-122.25</td>\n",
       "      <td>37.85</td>\n",
       "      <td>52.0</td>\n",
       "      <td>1274.0</td>\n",
       "      <td>235.0</td>\n",
       "      <td>558.0</td>\n",
       "      <td>219.0</td>\n",
       "      <td>5.6431</td>\n",
       "      <td>341300.0</td>\n",
       "      <td>NEAR BAY</td>\n",
       "    </tr>\n",
       "    <tr>\n",
       "      <th>4</th>\n",
       "      <td>-122.25</td>\n",
       "      <td>37.85</td>\n",
       "      <td>52.0</td>\n",
       "      <td>1627.0</td>\n",
       "      <td>280.0</td>\n",
       "      <td>565.0</td>\n",
       "      <td>259.0</td>\n",
       "      <td>3.8462</td>\n",
       "      <td>342200.0</td>\n",
       "      <td>NEAR BAY</td>\n",
       "    </tr>\n",
       "  </tbody>\n",
       "</table>\n",
       "</div>"
      ],
      "text/plain": [
       "   longitude  latitude  housing_median_age  total_rooms  total_bedrooms  \\\n",
       "0    -122.23     37.88                41.0        880.0           129.0   \n",
       "1    -122.22     37.86                21.0       7099.0          1106.0   \n",
       "2    -122.24     37.85                52.0       1467.0           190.0   \n",
       "3    -122.25     37.85                52.0       1274.0           235.0   \n",
       "4    -122.25     37.85                52.0       1627.0           280.0   \n",
       "\n",
       "   population  households  median_income  median_house_value ocean_proximity  \n",
       "0       322.0       126.0         8.3252            452600.0        NEAR BAY  \n",
       "1      2401.0      1138.0         8.3014            358500.0        NEAR BAY  \n",
       "2       496.0       177.0         7.2574            352100.0        NEAR BAY  \n",
       "3       558.0       219.0         5.6431            341300.0        NEAR BAY  \n",
       "4       565.0       259.0         3.8462            342200.0        NEAR BAY  "
      ]
     },
     "execution_count": 3,
     "metadata": {},
     "output_type": "execute_result"
    }
   ],
   "source": [
    "df = pd.read_csv('housing.csv')\n",
    "df.head()"
   ]
  },
  {
   "cell_type": "code",
   "execution_count": 4,
   "metadata": {
    "colab": {
     "base_uri": "https://localhost:8080/",
     "height": 206
    },
    "id": "snwkiILLstmK",
    "outputId": "f228b3a6-701f-454e-fdc9-201a91d316de"
   },
   "outputs": [
    {
     "data": {
      "text/html": [
       "<div>\n",
       "<style scoped>\n",
       "    .dataframe tbody tr th:only-of-type {\n",
       "        vertical-align: middle;\n",
       "    }\n",
       "\n",
       "    .dataframe tbody tr th {\n",
       "        vertical-align: top;\n",
       "    }\n",
       "\n",
       "    .dataframe thead th {\n",
       "        text-align: right;\n",
       "    }\n",
       "</style>\n",
       "<table border=\"1\" class=\"dataframe\">\n",
       "  <thead>\n",
       "    <tr style=\"text-align: right;\">\n",
       "      <th></th>\n",
       "      <th>longitude</th>\n",
       "      <th>latitude</th>\n",
       "      <th>housing_median_age</th>\n",
       "      <th>total_rooms</th>\n",
       "      <th>total_bedrooms</th>\n",
       "      <th>population</th>\n",
       "      <th>households</th>\n",
       "      <th>median_income</th>\n",
       "      <th>median_house_value</th>\n",
       "    </tr>\n",
       "  </thead>\n",
       "  <tbody>\n",
       "    <tr>\n",
       "      <th>0</th>\n",
       "      <td>-122.23</td>\n",
       "      <td>37.88</td>\n",
       "      <td>41.0</td>\n",
       "      <td>880.0</td>\n",
       "      <td>129.0</td>\n",
       "      <td>322.0</td>\n",
       "      <td>126.0</td>\n",
       "      <td>8.3252</td>\n",
       "      <td>452600.0</td>\n",
       "    </tr>\n",
       "    <tr>\n",
       "      <th>1</th>\n",
       "      <td>-122.22</td>\n",
       "      <td>37.86</td>\n",
       "      <td>21.0</td>\n",
       "      <td>7099.0</td>\n",
       "      <td>1106.0</td>\n",
       "      <td>2401.0</td>\n",
       "      <td>1138.0</td>\n",
       "      <td>8.3014</td>\n",
       "      <td>358500.0</td>\n",
       "    </tr>\n",
       "    <tr>\n",
       "      <th>2</th>\n",
       "      <td>-122.24</td>\n",
       "      <td>37.85</td>\n",
       "      <td>52.0</td>\n",
       "      <td>1467.0</td>\n",
       "      <td>190.0</td>\n",
       "      <td>496.0</td>\n",
       "      <td>177.0</td>\n",
       "      <td>7.2574</td>\n",
       "      <td>352100.0</td>\n",
       "    </tr>\n",
       "    <tr>\n",
       "      <th>3</th>\n",
       "      <td>-122.25</td>\n",
       "      <td>37.85</td>\n",
       "      <td>52.0</td>\n",
       "      <td>1274.0</td>\n",
       "      <td>235.0</td>\n",
       "      <td>558.0</td>\n",
       "      <td>219.0</td>\n",
       "      <td>5.6431</td>\n",
       "      <td>341300.0</td>\n",
       "    </tr>\n",
       "    <tr>\n",
       "      <th>4</th>\n",
       "      <td>-122.25</td>\n",
       "      <td>37.85</td>\n",
       "      <td>52.0</td>\n",
       "      <td>1627.0</td>\n",
       "      <td>280.0</td>\n",
       "      <td>565.0</td>\n",
       "      <td>259.0</td>\n",
       "      <td>3.8462</td>\n",
       "      <td>342200.0</td>\n",
       "    </tr>\n",
       "  </tbody>\n",
       "</table>\n",
       "</div>"
      ],
      "text/plain": [
       "   longitude  latitude  housing_median_age  total_rooms  total_bedrooms  \\\n",
       "0    -122.23     37.88                41.0        880.0           129.0   \n",
       "1    -122.22     37.86                21.0       7099.0          1106.0   \n",
       "2    -122.24     37.85                52.0       1467.0           190.0   \n",
       "3    -122.25     37.85                52.0       1274.0           235.0   \n",
       "4    -122.25     37.85                52.0       1627.0           280.0   \n",
       "\n",
       "   population  households  median_income  median_house_value  \n",
       "0       322.0       126.0         8.3252            452600.0  \n",
       "1      2401.0      1138.0         8.3014            358500.0  \n",
       "2       496.0       177.0         7.2574            352100.0  \n",
       "3       558.0       219.0         5.6431            341300.0  \n",
       "4       565.0       259.0         3.8462            342200.0  "
      ]
     },
     "execution_count": 4,
     "metadata": {},
     "output_type": "execute_result"
    }
   ],
   "source": [
    "df.drop('ocean_proximity' , axis=1 , inplace=True)\n",
    "df.head()"
   ]
  },
  {
   "cell_type": "markdown",
   "metadata": {
    "id": "_RlAcfkrvBDn"
   },
   "source": [
    "## Split"
   ]
  },
  {
   "cell_type": "code",
   "execution_count": 5,
   "metadata": {
    "colab": {
     "base_uri": "https://localhost:8080/"
    },
    "id": "ml1npqT8yzrO",
    "outputId": "64333f95-211c-4f6d-9020-17b573c42d45"
   },
   "outputs": [
    {
     "name": "stdout",
     "output_type": "stream",
     "text": [
      "(18576, 9)\n",
      "(2064, 9)\n"
     ]
    }
   ],
   "source": [
    "train_set , test_set = train_test_split(df ,test_size=0.1 , random_state=0)\n",
    "print(train_set.shape)\n",
    "print(test_set.shape)"
   ]
  },
  {
   "cell_type": "code",
   "execution_count": 6,
   "metadata": {},
   "outputs": [
    {
     "name": "stdout",
     "output_type": "stream",
     "text": [
      "(14860, 9)\n",
      "(3716, 9)\n"
     ]
    }
   ],
   "source": [
    "train_set , valid_set = train_test_split(train_set ,test_size=0.2 , random_state=0)\n",
    "print(train_set.shape)\n",
    "print(valid_set.shape)"
   ]
  },
  {
   "cell_type": "markdown",
   "metadata": {
    "id": "5qOD027He6RR"
   },
   "source": [
    "## Preprocess"
   ]
  },
  {
   "cell_type": "code",
   "execution_count": 7,
   "metadata": {},
   "outputs": [
    {
     "data": {
      "text/plain": [
       "longitude               0\n",
       "latitude                0\n",
       "housing_median_age      0\n",
       "total_rooms             0\n",
       "total_bedrooms        161\n",
       "population              0\n",
       "households              0\n",
       "median_income           0\n",
       "median_house_value      0\n",
       "dtype: int64"
      ]
     },
     "execution_count": 7,
     "metadata": {},
     "output_type": "execute_result"
    }
   ],
   "source": [
    "train_set.isnull().sum()"
   ]
  },
  {
   "cell_type": "code",
   "execution_count": 8,
   "metadata": {},
   "outputs": [
    {
     "data": {
      "text/plain": [
       "539"
      ]
     },
     "execution_count": 8,
     "metadata": {},
     "output_type": "execute_result"
    }
   ],
   "source": [
    "mean_feature = round(train_set['total_bedrooms'].mean())\n",
    "mean_feature"
   ]
  },
  {
   "cell_type": "code",
   "execution_count": 9,
   "metadata": {},
   "outputs": [
    {
     "data": {
      "text/plain": [
       "longitude             0\n",
       "latitude              0\n",
       "housing_median_age    0\n",
       "total_rooms           0\n",
       "total_bedrooms        0\n",
       "population            0\n",
       "households            0\n",
       "median_income         0\n",
       "median_house_value    0\n",
       "dtype: int64"
      ]
     },
     "execution_count": 9,
     "metadata": {},
     "output_type": "execute_result"
    }
   ],
   "source": [
    "train_set.fillna(mean_feature , inplace=True)\n",
    "train_set.isnull().sum()"
   ]
  },
  {
   "cell_type": "code",
   "execution_count": 10,
   "metadata": {},
   "outputs": [
    {
     "data": {
      "text/plain": [
       "longitude             0\n",
       "latitude              0\n",
       "housing_median_age    0\n",
       "total_rooms           0\n",
       "total_bedrooms        0\n",
       "population            0\n",
       "households            0\n",
       "median_income         0\n",
       "median_house_value    0\n",
       "dtype: int64"
      ]
     },
     "execution_count": 10,
     "metadata": {},
     "output_type": "execute_result"
    }
   ],
   "source": [
    "valid_set.fillna(mean_feature , inplace=True)\n",
    "valid_set.isnull().sum()"
   ]
  },
  {
   "cell_type": "code",
   "execution_count": 11,
   "metadata": {},
   "outputs": [
    {
     "data": {
      "text/plain": [
       "longitude             0\n",
       "latitude              0\n",
       "housing_median_age    0\n",
       "total_rooms           0\n",
       "total_bedrooms        0\n",
       "population            0\n",
       "households            0\n",
       "median_income         0\n",
       "median_house_value    0\n",
       "dtype: int64"
      ]
     },
     "execution_count": 11,
     "metadata": {},
     "output_type": "execute_result"
    }
   ],
   "source": [
    "test_set.fillna(mean_feature , inplace=True)\n",
    "test_set.isnull().sum()"
   ]
  },
  {
   "cell_type": "code",
   "execution_count": 12,
   "metadata": {},
   "outputs": [],
   "source": [
    "X_train = train_set.drop('median_house_value' , axis=1).values\n",
    "y_train = train_set['median_house_value'].values\n",
    "y_train = y_train[: , None]\n",
    "\n",
    "X_valid = valid_set.drop('median_house_value' , axis=1).values\n",
    "y_valid = valid_set['median_house_value'].values\n",
    "y_valid = y_valid[: , None]\n",
    "\n",
    "X_test = test_set.drop('median_house_value' , axis=1).values\n",
    "y_test = test_set['median_house_value'].values\n",
    "y_test = y_test[: , None]"
   ]
  },
  {
   "cell_type": "code",
   "execution_count": 13,
   "metadata": {
    "id": "w7hFEHNGe91D"
   },
   "outputs": [],
   "source": [
    "X_train = torch.FloatTensor(X_train)\n",
    "X_valid = torch.FloatTensor(X_valid)\n",
    "X_test = torch.FloatTensor(X_test)\n",
    "\n",
    "y_train = torch.FloatTensor(y_train)\n",
    "y_valid = torch.FloatTensor(y_valid)\n",
    "y_test = torch.FloatTensor(y_test)"
   ]
  },
  {
   "cell_type": "code",
   "execution_count": 14,
   "metadata": {
    "id": "nf77vw0Bw8_i"
   },
   "outputs": [],
   "source": [
    "mu = torch.mean(X_train , dim=0)\n",
    "std = torch.std(X_train , dim=0)\n",
    "\n",
    "X_train = (X_train - mu) / std\n",
    "X_valid = (X_valid - mu) / std\n",
    "X_test = (X_test - mu) / std"
   ]
  },
  {
   "cell_type": "code",
   "execution_count": 15,
   "metadata": {
    "id": "9-P5sW_BxqOJ"
   },
   "outputs": [],
   "source": [
    "mu_y = torch.mean(y_train)\n",
    "std_y = torch.std(y_train)\n",
    "\n",
    "y_train = (y_train - mu_y) / std_y\n",
    "y_valid = (y_valid - mu_y) / std_y\n",
    "y_test = (y_test - mu_y) / std_y"
   ]
  },
  {
   "cell_type": "markdown",
   "metadata": {
    "id": "Fy195c8EfWDJ"
   },
   "source": [
    "## Dataloader"
   ]
  },
  {
   "cell_type": "code",
   "execution_count": 16,
   "metadata": {
    "id": "ZSSRbHM0fT-A"
   },
   "outputs": [],
   "source": [
    "train_dataset = TensorDataset(X_train , y_train)\n",
    "valid_dataset = TensorDataset(X_valid , y_valid)\n",
    "test_dataset = TensorDataset(X_test , y_test)\n",
    "\n",
    "train_loader = DataLoader(train_dataset , 200 , True)\n",
    "valid_loader = DataLoader(valid_dataset , 400)\n",
    "test_loader = DataLoader(test_dataset , 400)"
   ]
  },
  {
   "cell_type": "markdown",
   "metadata": {
    "id": "-NBcJXJkfgUI"
   },
   "source": [
    "# **Model 🧠**"
   ]
  },
  {
   "cell_type": "code",
   "execution_count": 86,
   "metadata": {
    "colab": {
     "base_uri": "https://localhost:8080/"
    },
    "id": "2b9Po2RYfi8C",
    "outputId": "8608ac81-c649-45e1-cd49-e7b32464780b"
   },
   "outputs": [
    {
     "data": {
      "text/plain": [
       "Sequential(\n",
       "  (0): Linear(in_features=8, out_features=12, bias=True)\n",
       "  (1): ReLU()\n",
       "  (2): Linear(in_features=12, out_features=4, bias=True)\n",
       "  (3): ReLU()\n",
       "  (4): Linear(in_features=4, out_features=1, bias=True)\n",
       ")"
      ]
     },
     "execution_count": 86,
     "metadata": {},
     "output_type": "execute_result"
    }
   ],
   "source": [
    "in_features = 8\n",
    "h1 = 12\n",
    "h2 = 4\n",
    "out_features = 1\n",
    "\n",
    "model = nn.Sequential(nn.Linear(in_features , h1),\n",
    "                      nn.ReLU(),\n",
    "                      \n",
    "                      nn.Linear(h1 , h2),\n",
    "                      nn.ReLU(),\n",
    "                      \n",
    "                      nn.Linear(h2 , out_features),\n",
    "                     )\n",
    "\n",
    "model"
   ]
  },
  {
   "cell_type": "markdown",
   "metadata": {
    "id": "DY5JMY1Yftsr"
   },
   "source": [
    "# **Device ⚙️**"
   ]
  },
  {
   "cell_type": "code",
   "execution_count": 87,
   "metadata": {
    "id": "Ce6_MpTcfrGi"
   },
   "outputs": [],
   "source": [
    "device = 'cuda' if torch.cuda.is_available() else 'cpu'\n",
    "model = model.to(device)"
   ]
  },
  {
   "cell_type": "markdown",
   "metadata": {
    "id": "xFbRtOqLfnh6",
    "tags": []
   },
   "source": [
    "# **Loss ⚖️**"
   ]
  },
  {
   "cell_type": "markdown",
   "metadata": {
    "id": "f5iDi4F4Cpws"
   },
   "source": [
    "## MSELoss"
   ]
  },
  {
   "cell_type": "code",
   "execution_count": 32,
   "metadata": {
    "id": "EpzTOAOafj8e"
   },
   "outputs": [],
   "source": [
    "mse_loss = nn.MSELoss()"
   ]
  },
  {
   "cell_type": "markdown",
   "metadata": {
    "id": "fe37DYQpCsdN"
   },
   "source": [
    "## N1Loss"
   ]
  },
  {
   "cell_type": "code",
   "execution_count": 39,
   "metadata": {
    "id": "leQ98J7QCudD"
   },
   "outputs": [],
   "source": [
    "mae_loss = nn.L1Loss()"
   ]
  },
  {
   "cell_type": "markdown",
   "metadata": {
    "id": "f_KWZJcuCutZ"
   },
   "source": [
    "## HuberLoss"
   ]
  },
  {
   "cell_type": "code",
   "execution_count": 21,
   "metadata": {
    "id": "miuBLGDLCxAh"
   },
   "outputs": [],
   "source": [
    "huber_loss = nn.HuberLoss()"
   ]
  },
  {
   "cell_type": "markdown",
   "metadata": {
    "id": "jzIjcI6JCxXJ"
   },
   "source": [
    "## AdaptiveLoss"
   ]
  },
  {
   "cell_type": "code",
   "execution_count": 22,
   "metadata": {
    "id": "pfWdNFn8CzBp"
   },
   "outputs": [],
   "source": [
    "def adaptive_loss(y_hat , y , c , alpha):\n",
    "\n",
    "    if alpha == 2:\n",
    "        return torch.mean(0.5*((y-y_hat) / c)**2)\n",
    "\n",
    "    elif alpha == 0:\n",
    "        return torch.mean(torch.log(0.5*((y-y_hat) / c)**2 + 1))\n",
    "\n",
    "    elif alpha <= -1e4:\n",
    "        return torch.mean(1 - torch.exp(-0.5*((y-y_hat) / c)**2))"
   ]
  },
  {
   "cell_type": "markdown",
   "metadata": {
    "id": "8dejGbh1C1zJ",
    "tags": []
   },
   "source": [
    "# **Optimizer📻**"
   ]
  },
  {
   "cell_type": "markdown",
   "metadata": {
    "id": "MRCNTnJuC9pV"
   },
   "source": [
    "## Adam"
   ]
  },
  {
   "cell_type": "code",
   "execution_count": 88,
   "metadata": {
    "id": "IMeNToPhC_sG"
   },
   "outputs": [],
   "source": [
    "optimizer_adam = torch.optim.Adam(model.parameters() , lr=0.01)"
   ]
  },
  {
   "cell_type": "markdown",
   "metadata": {
    "id": "b39HneYjC_-l"
   },
   "source": [
    "## SGD"
   ]
  },
  {
   "cell_type": "code",
   "execution_count": 66,
   "metadata": {
    "id": "uc9TWmYsDBKl"
   },
   "outputs": [],
   "source": [
    "optimizer_sgd = torch.optim.SGD(model.parameters() , lr=0.01)"
   ]
  },
  {
   "cell_type": "markdown",
   "metadata": {
    "id": "wL8bgTj3DBat"
   },
   "source": [
    "## SGD_M"
   ]
  },
  {
   "cell_type": "code",
   "execution_count": 73,
   "metadata": {
    "id": "7rIcyqUBDC3u"
   },
   "outputs": [],
   "source": [
    "optimizer_sgd_momentum = torch.optim.SGD(model.parameters() , lr=0.01 , momentum=0.9)"
   ]
  },
  {
   "cell_type": "markdown",
   "metadata": {
    "id": "v6RU2J3MDDF9"
   },
   "source": [
    "## SGD_Nest"
   ]
  },
  {
   "cell_type": "code",
   "execution_count": 78,
   "metadata": {
    "id": "Iotc8U7LDFG1"
   },
   "outputs": [],
   "source": [
    "optimizer_sgd_momentum_nestrov = torch.optim.SGD(model.parameters() , lr=0.01 , momentum=0.9 , nesterov=True)"
   ]
  },
  {
   "cell_type": "markdown",
   "metadata": {
    "id": "4AlUHz4yDFTO"
   },
   "source": [
    "## rmsprop"
   ]
  },
  {
   "cell_type": "code",
   "execution_count": 83,
   "metadata": {
    "id": "crZOA7kXDHXt"
   },
   "outputs": [],
   "source": [
    "optimizer_rmsprop = torch.optim.RMSprop(model.parameters() , lr=0.01)"
   ]
  },
  {
   "cell_type": "markdown",
   "metadata": {
    "id": "mbpEEA0g1-Be",
    "tags": []
   },
   "source": [
    "# **Utils 🧰**"
   ]
  },
  {
   "cell_type": "code",
   "execution_count": 28,
   "metadata": {
    "id": "G6s889_UrqDT"
   },
   "outputs": [],
   "source": [
    "class AverageMeter(object):\n",
    "    \"\"\"Computes and stores the average and current value\"\"\"\n",
    "    def __init__(self):\n",
    "        self.reset()\n",
    "\n",
    "    def reset(self):\n",
    "        self.val = 0\n",
    "        self.avg = 0\n",
    "        self.sum = 0\n",
    "        self.count = 0\n",
    "\n",
    "    def update(self, val, n=1):\n",
    "        self.val = val\n",
    "        self.sum += val * n\n",
    "        self.count += n\n",
    "        self.avg = self.sum / self.count"
   ]
  },
  {
   "cell_type": "markdown",
   "metadata": {
    "id": "SMlnazVEN50z"
   },
   "source": [
    "# **Train Loop👨🏼‍🏫**"
   ]
  },
  {
   "cell_type": "code",
   "execution_count": 89,
   "metadata": {
    "colab": {
     "base_uri": "https://localhost:8080/",
     "height": 622
    },
    "id": "3Xj6jXkuN4rd",
    "outputId": "906d54ee-6198-4e08-a52f-6f99e96e3136"
   },
   "outputs": [
    {
     "name": "stdout",
     "output_type": "stream",
     "text": [
      "Epoch 0\n",
      "Train: Loss = 0.08131, R2Score = 0.208\n",
      "Valid: Loss = 0.06315, R2Score = 0.4303\n",
      "\n",
      "Epoch 10\n",
      "Train: Loss = 0.03147, R2Score = 0.7226\n",
      "Valid: Loss = 0.03261, R2Score = 0.7212\n",
      "\n",
      "Epoch 20\n",
      "Train: Loss = 0.03073, R2Score = 0.7288\n",
      "Valid: Loss = 0.03157, R2Score = 0.7312\n",
      "\n",
      "Epoch 30\n",
      "Train: Loss = 0.03058, R2Score = 0.7309\n",
      "Valid: Loss = 0.03238, R2Score = 0.7257\n",
      "\n",
      "Epoch 40\n",
      "Train: Loss = 0.03013, R2Score = 0.7338\n",
      "Valid: Loss = 0.03195, R2Score = 0.7263\n",
      "\n",
      "Epoch 50\n",
      "Train: Loss = 0.03017, R2Score = 0.7343\n",
      "Valid: Loss = 0.03213, R2Score = 0.7297\n",
      "\n",
      "Epoch 60\n",
      "Train: Loss = 0.02825, R2Score = 0.7505\n",
      "Valid: Loss = 0.02985, R2Score = 0.7448\n",
      "\n",
      "Epoch 70\n",
      "Train: Loss = 0.02782, R2Score = 0.7551\n",
      "Valid: Loss = 0.02912, R2Score = 0.7501\n",
      "\n",
      "Epoch 80\n",
      "Train: Loss = 0.02791, R2Score = 0.754\n",
      "Valid: Loss = 0.02908, R2Score = 0.7543\n",
      "\n",
      "Epoch 90\n",
      "Train: Loss = 0.02737, R2Score = 0.7581\n",
      "Valid: Loss = 0.02889, R2Score = 0.7533\n",
      "\n",
      "Epoch 100\n",
      "Train: Loss = 0.02737, R2Score = 0.7582\n",
      "Valid: Loss = 0.02869, R2Score = 0.7571\n",
      "\n",
      "Epoch 110\n",
      "Train: Loss = 0.02709, R2Score = 0.7605\n",
      "Valid: Loss = 0.02859, R2Score = 0.758\n",
      "\n",
      "Epoch 120\n",
      "Train: Loss = 0.02707, R2Score = 0.7611\n",
      "Valid: Loss = 0.02847, R2Score = 0.7577\n",
      "\n",
      "Epoch 130\n",
      "Train: Loss = 0.02702, R2Score = 0.7625\n",
      "Valid: Loss = 0.02852, R2Score = 0.7568\n",
      "\n",
      "Epoch 140\n",
      "Train: Loss = 0.02685, R2Score = 0.7629\n",
      "Valid: Loss = 0.0287, R2Score = 0.754\n",
      "\n",
      "Epoch 150\n",
      "Train: Loss = 0.02715, R2Score = 0.7609\n",
      "Valid: Loss = 0.02812, R2Score = 0.7605\n",
      "\n",
      "Epoch 160\n",
      "Train: Loss = 0.02692, R2Score = 0.7631\n",
      "Valid: Loss = 0.02834, R2Score = 0.7585\n",
      "\n",
      "Epoch 170\n",
      "Train: Loss = 0.02679, R2Score = 0.7641\n",
      "Valid: Loss = 0.02787, R2Score = 0.7626\n",
      "\n",
      "Epoch 180\n",
      "Train: Loss = 0.02672, R2Score = 0.7647\n",
      "Valid: Loss = 0.02845, R2Score = 0.756\n",
      "\n",
      "Epoch 190\n",
      "Train: Loss = 0.02676, R2Score = 0.7651\n",
      "Valid: Loss = 0.02802, R2Score = 0.7628\n",
      "\n",
      "Epoch 200\n",
      "Train: Loss = 0.02678, R2Score = 0.765\n",
      "Valid: Loss = 0.02789, R2Score = 0.7632\n",
      "\n",
      "Epoch 210\n",
      "Train: Loss = 0.02683, R2Score = 0.7635\n",
      "Valid: Loss = 0.02804, R2Score = 0.7589\n",
      "\n",
      "Epoch 220\n",
      "Train: Loss = 0.02664, R2Score = 0.7662\n",
      "Valid: Loss = 0.02831, R2Score = 0.7619\n",
      "\n",
      "Epoch 230\n",
      "Train: Loss = 0.02678, R2Score = 0.7664\n",
      "Valid: Loss = 0.02981, R2Score = 0.7508\n",
      "\n",
      "Epoch 240\n",
      "Train: Loss = 0.02653, R2Score = 0.767\n",
      "Valid: Loss = 0.02749, R2Score = 0.7659\n",
      "\n",
      "Epoch 250\n",
      "Train: Loss = 0.02632, R2Score = 0.7678\n",
      "Valid: Loss = 0.02813, R2Score = 0.7615\n",
      "\n",
      "Epoch 260\n",
      "Train: Loss = 0.02634, R2Score = 0.7677\n",
      "Valid: Loss = 0.0275, R2Score = 0.7647\n",
      "\n",
      "Epoch 270\n",
      "Train: Loss = 0.02632, R2Score = 0.7673\n",
      "Valid: Loss = 0.02769, R2Score = 0.7619\n",
      "\n",
      "Epoch 280\n",
      "Train: Loss = 0.0263, R2Score = 0.7688\n",
      "Valid: Loss = 0.02765, R2Score = 0.763\n",
      "\n",
      "Epoch 290\n",
      "Train: Loss = 0.0266, R2Score = 0.7671\n",
      "Valid: Loss = 0.02788, R2Score = 0.7618\n",
      "\n"
     ]
    }
   ],
   "source": [
    "loss_train_hist = []\n",
    "loss_valid_hist = []\n",
    "\n",
    "acc_train_hist = []\n",
    "acc_valid_hist = []\n",
    "\n",
    "num_epochs = 300\n",
    "\n",
    "for epoch in range(num_epochs):\n",
    "    # Train\n",
    "    model.train()\n",
    "    loss_train = AverageMeter()\n",
    "    acc_train = R2Score()\n",
    "    for i, (inputs, targets) in enumerate(train_loader):\n",
    "        inputs = inputs.to(device)\n",
    "        targets = targets.to(device)\n",
    "\n",
    "        outputs = model(inputs)\n",
    "        loss = adaptive_loss(outputs, targets , c=2 , alpha=0)\n",
    "\n",
    "        loss.backward()\n",
    "        optimizer_adam.step()\n",
    "        optimizer_adam.zero_grad()\n",
    "\n",
    "        loss_train.update(loss.item())\n",
    "        acc_train(outputs, targets)\n",
    "\n",
    "    loss_train_hist.append(loss_train.avg)\n",
    "    acc_train_hist.append(acc_train.compute())\n",
    "\n",
    "    # Validation\n",
    "    model.eval()\n",
    "    loss_valid = AverageMeter()\n",
    "    acc_valid = R2Score()\n",
    "    with torch.no_grad():\n",
    "        for i, (inputs, targets) in enumerate(valid_loader):\n",
    "            inputs = inputs.to(device)\n",
    "            targets = targets.to(device)\n",
    "\n",
    "            outputs = model(inputs)\n",
    "\n",
    "            loss = adaptive_loss(outputs, targets , c=2 , alpha=0)\n",
    "\n",
    "            loss_valid.update(loss.item())\n",
    "            acc_valid(outputs, targets)\n",
    "\n",
    "        loss_valid_hist.append(loss_valid.avg)\n",
    "        acc_valid_hist.append(acc_valid.compute())\n",
    "\n",
    "    if epoch % 10 == 0:\n",
    "        print(f'Epoch {epoch}')\n",
    "        print(f'Train: Loss = {loss_train.avg:.4}, R2Score = {acc_train.compute():.4}')\n",
    "        print(f'Valid: Loss = {loss_valid.avg:.4}, R2Score = {acc_valid.compute():.4}')\n",
    "        print()"
   ]
  },
  {
   "cell_type": "code",
   "execution_count": 90,
   "metadata": {},
   "outputs": [],
   "source": [
    "optim = 'adam'\n",
    "\n",
    "torch.save(torch.tensor(acc_train_hist), f'save/{optim}-acc-train.pt')\n",
    "torch.save(torch.tensor(acc_valid_hist), f'save/{optim}-acc-valid.pt')\n",
    "\n",
    "torch.save(torch.tensor(loss_train_hist), f'save/{optim}-loss-train.pt')\n",
    "torch.save(torch.tensor(loss_valid_hist), f'save/{optim}-loss-valid.pt')"
   ]
  },
  {
   "cell_type": "markdown",
   "metadata": {
    "id": "Chajg8gmDnHh"
   },
   "source": [
    "# **Comparison🔎**"
   ]
  },
  {
   "cell_type": "markdown",
   "metadata": {
    "id": "QUMvtEvmEgMU"
   },
   "source": [
    "## Plot"
   ]
  },
  {
   "cell_type": "code",
   "execution_count": 91,
   "metadata": {
    "id": "xZ2W4wspDqco"
   },
   "outputs": [],
   "source": [
    "def plot_lcs(x:str, y:str):\n",
    "    plt.figure(figsize=(8, 6))\n",
    "\n",
    "    for optim in ['sgd', 'sgd-m', 'sgd-nest', 'rms', 'adam']:\n",
    "        \n",
    "        z = torch.load(f'save/{optim}-{x}-{y}.pt')\n",
    "\n",
    "        plt.plot(range(num_epochs), z, label=optim)\n",
    "        plt.xlabel('epoch')\n",
    "        plt.ylabel(f'{x} {y}')\n",
    "        plt.grid(True)\n",
    "        plt.legend()"
   ]
  },
  {
   "cell_type": "code",
   "execution_count": 94,
   "metadata": {
    "id": "NPssQ3Q-EUT0"
   },
   "outputs": [
    {
     "data": {
      "image/png": "[encoded data removed]",
      "text/plain": [
       "<Figure size 576x432 with 1 Axes>"
      ]
     },
     "metadata": {
      "needs_background": "light"
     },
     "output_type": "display_data"
    }
   ],
   "source": [
    "plot_lcs('acc', 'valid')"
   ]
  },
  {
   "cell_type": "markdown",
   "metadata": {
    "id": "T3Dx-IT0E8ev",
    "tags": []
   },
   "source": [
    "## R2 score"
   ]
  },
  {
   "cell_type": "markdown",
   "metadata": {
    "id": "JIHBxNeQGyG3"
   },
   "source": [
    "Loss     | MSELoss  | N1Loss  | HuberLoss | AdaptiveLoss\n",
    "---------|----------|---------|-----------|------------------\n",
    "R2 score |    0.7769      | 0.7778        |0.7644           |0.78"
   ]
  }
 ],
 "metadata": {
  "accelerator": "GPU",
  "colab": {
   "collapsed_sections": [
    "mbpEEA0g1-Be",
    "QUMvtEvmEgMU",
    "T3Dx-IT0E8ev"
   ],
   "gpuType": "T4",
   "provenance": []
  },
  "kernelspec": {
   "display_name": "Python 3",
   "language": "python",
   "name": "python3"
  },
  "language_info": {
   "codemirror_mode": {
    "name": "ipython",
    "version": 3
   },
   "file_extension": ".py",
   "mimetype": "text/x-python",
   "name": "python",
   "nbconvert_exporter": "python",
   "pygments_lexer": "ipython3",
   "version": "3.7.16"
  }
 },
 "nbformat": 4,
 "nbformat_minor": 4
}
